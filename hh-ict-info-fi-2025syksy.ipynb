{
 "cells": [
  {
   "cell_type": "markdown",
   "id": "c5dc1403",
   "metadata": {},
   "source": [
    "# <center>Haaga-Helia ammattikorkeakoulu<br /> ICT info</center>"
   ]
  },
  {
   "cell_type": "markdown",
   "id": "1a34300d",
   "metadata": {},
   "source": [
    "## Tietokoneelle kirjautuminen ja salasanan vaihto"
   ]
  },
  {
   "cell_type": "markdown",
   "id": "1f2ae8b4",
   "metadata": {},
   "source": [
    "HelpDesk: [haaga-helia.fi > Opiskelijalle > HelpDesk, IT palvelut](https://www.haaga-helia.fi/fi/opiskelu/helpdesk-it-palvelut)"
   ]
  },
  {
   "cell_type": "markdown",
   "id": "928f1fab",
   "metadata": {},
   "source": [
    "Käyttäjätunnukset: [haaga-helia.fi > Opiskelijalle > HelpDesk, IT palvelut> Käyttäjätunnukset ja salasanat](https://www.haaga-helia.fi/fi/opiskelijoiden-tunnistautuminen-kayttajatunnukset-ja-salasanat)"
   ]
  },
  {
   "cell_type": "markdown",
   "id": "d416c2e7",
   "metadata": {},
   "source": [
    "Salasanan vaihto \n",
    "* Nettilomakkeella\n",
    "* Koulun koneella (Ctrl+Alt+Del) kuluvan viikon aikana"
   ]
  },
  {
   "cell_type": "markdown",
   "id": "cd9a9547",
   "metadata": {},
   "source": [
    "Salasanan unohtuessa uuden saa [Haaga-Helian tunnistautumispalvelusta](https://identification-portal.haaga-helia.fi/) vahvan tunnistautumisen kautta"
   ]
  },
  {
   "cell_type": "markdown",
   "id": "0305608c",
   "metadata": {},
   "source": [
    "Jos kirjautuminen järjestelmään ei onnistu, katso lisätietoja: [haaga-helia.fi/ -> Opiskelijalle -> HelpDesk, IT palvelut -> Opiskelijan tunnistautuminen](https://www.haaga-helia.fi/fi/opiskelijoiden-tunnistautuminen-kayttajatunnukset-ja-salasanat)"
   ]
  },
  {
   "cell_type": "markdown",
   "id": "64b18f23",
   "metadata": {},
   "source": [
    "Kaksivaiheinen tunnistautuminen on laajalti käytössä\n",
    "* [Ohjeet kaksivaiheisen tunnistautumisen käyttöönottoon](https://www.haaga-helia.fi/sites/default/files/file/2024-03/mfa_ohjeet_hh.pdf) (pdf-tiedosto)\n",
    "* [https://aka.ms/mfasetup](https://aka.ms/mfasetup)"
   ]
  },
  {
   "cell_type": "markdown",
   "id": "3cbc5a2e",
   "metadata": {},
   "source": [
    "## Haaga-Helia amk:n julkiset nettisivut"
   ]
  },
  {
   "cell_type": "markdown",
   "id": "74c7476c",
   "metadata": {},
   "source": [
    "<!--\n",
    "![HH_public_pages_quick_links_2024_1220.PNG](attachment:HH_public_pages_quick_links_2024_1220.PNG)\n",
    "-->\n",
    "\n",
    "* [www.haaga-helia.fi](https://www.haaga-helia.fi/)\n",
    "* Linkit löytyvät sivuston alareunasta\n",
    "* Ylhäältä hampurilaisvalikon takaa löytyy mm.\n",
    "  * [Opiskelijalle](https://www.haaga-helia.fi/fi/opiskelijalle)\n",
    "  * [Haaga-Heliasta -> Yhteystiedot](https://www.haaga-helia.fi/fi/yhteystiedot)\n",
    "  "
   ]
  },
  {
   "cell_type": "markdown",
   "id": "3fc5e564",
   "metadata": {},
   "source": [
    "## Opiskelun sivut: Student Peppi"
   ]
  },
  {
   "cell_type": "markdown",
   "id": "e552d8d1",
   "metadata": {},
   "source": [
    "Opiskelijan suljettu sivusto\n",
    "\n",
    "* [haaga-helia.fi/ -> Opiskelijalle > Peppi – Opiskelijan virtuaalinen työpöytä](https://www.haaga-helia.fi/fi/opiskelu/peppi-opiskelijan-virtuaalinen-tyopoyta)"
   ]
  },
  {
   "cell_type": "markdown",
   "id": "f0ecdc1c",
   "metadata": {},
   "source": [
    "Kirjatuminen joko julkisen sivun kautta\n",
    "* Hampurilaisvalikon kautta tai\n",
    "* [haaga-helia.fi/ -> Opiskelijalle](https://www.haaga-helia.fi/fi/opiskelijalle)\n",
    "<figure>\n",
    "<img src=\"ICT-info-kuvat\\HH_julkinen_websivu_opiskelijalle_Peppi_2025_0604.PNG\" alt=\"Kuva: Opiskelijan Peppi Opiskelijalle-sivulla\" width=\"600\" height=\"200\">\n",
    " <figcaption>Kuva1: Opiskelijan Peppi Opiskelijalle-sivulla</figcaption>\n",
    "</figure>"
   ]
  },
  {
   "cell_type": "markdown",
   "id": "751270b2",
   "metadata": {},
   "source": [
    "Kirjatuminen suoraan: [https://student.home.haaga-helia.fi/](https://student.home.haaga-helia.fi/)\n",
    "* Käyttäjätunnus on verkkotunnus, eli muotoa bxx123"
   ]
  },
  {
   "cell_type": "markdown",
   "id": "5c11c3a8",
   "metadata": {},
   "source": [
    "## Tietohallinnon ohjeet"
   ]
  },
  {
   "cell_type": "markdown",
   "id": "ef30a189",
   "metadata": {},
   "source": [
    "* IT-hallinnon ohjeet, ukk, säännöt ja sopimukset\n",
    "[haaga-helia.fi/ -> Haaga-Heliasta ->\n",
    "Yhteystiedot -> IT-palvelut ja HelpDesk](https://www.haaga-helia.fi/fi/yhteystiedot/it-palvelut-ja-helpdesk)"
   ]
  },
  {
   "cell_type": "markdown",
   "id": "675b9e5d",
   "metadata": {},
   "source": [
    "* [Microsoft 365](https://www.haaga-helia.fi/fi/opiskelu/microsoft-365)\n",
    "* [Ohjelmistoja opiskelijoiden kotikäyttöön](https://www.haaga-helia.fi/fi/opiskelu/ohjelmistoja-opiskelijoiden-kotikayttoon)\n",
    "  * Käytä SSO-kirjautumista, jos sitä tarjotaan, eeim, Zoom: haaga-helia.zoom.us sekä verkkotunnuksesi\n",
    "* [Tulostaminen ja skannaaminen](https://www.haaga-helia.fi/fi/opiskelu/tulostaminen-ja-skannaaminen)\n"
   ]
  },
  {
   "cell_type": "markdown",
   "id": "c268e28c",
   "metadata": {},
   "source": [
    "<table>\n",
    "<tr>\n",
    "<td>\n",
    "<figure>\n",
    " <img src=\"ICT-info-kuvat\\HH_julkiset_sivut_pikalinkit_2025_0525.PNG\" alt=\"Figure: Haaga-Helia amk Pikalinkit\" width=\"200\" height=\"80\">\n",
    " <figcaption>Kuva 2: Haaga-Helia amk pikalinkit</figcaption>\n",
    "</figure>\n",
    "</td>\n",
    "<td>\n",
    "<figure>\n",
    "<img src=\"ICT-info-kuvat\\HH_julkinen_websivu_IT_palvelut_helpdesk_yhteystiedot_2025_0604.PNG\" alt=\"Figure: HelpDesk yhteystiedot\" width=\"200\" height=\"150\">\n",
    " <figcaption>Kuva 3: HelpDesk yhteystiedot</figcaption>\n",
    "</figure>\n",
    "</td>\n",
    "</tr>\n",
    "</table>"
   ]
  },
  {
   "cell_type": "markdown",
   "id": "3febb43b-8e39-40e2-bcb2-6dca6fb75393",
   "metadata": {},
   "source": [
    "## Mistä löytyvät opintojaksot ja lukujärjestykset?"
   ]
  },
  {
   "cell_type": "markdown",
   "id": "853d0384-53ea-4791-810a-fd6108dff13b",
   "metadata": {},
   "source": [
    "Master-opiskelu\n",
    "* [haaga-helia.fi/ -> Opiskelijalle -> Master-opinnot](https://www.haaga-helia.fi/fi/master/master-opiskelu)"
   ]
  },
  {
   "cell_type": "markdown",
   "id": "0a5e34a3",
   "metadata": {},
   "source": [
    "Haaga-Helian julkisilla sivuilla pääsivun alaosan koosteessa\n",
    "* [https://www.haaga-helia.fi/](https://www.haaga-helia.fi/)"
   ]
  },
  {
   "cell_type": "markdown",
   "id": "abc5419a",
   "metadata": {},
   "source": [
    "Haaga-Helian julkisilla sivuilla Opiskelijan sivulla\n",
    "* [haaga-helia.fi/ -> Opiskelijalle](https://www.haaga-helia.fi/fi/opiskelijalle)"
   ]
  },
  {
   "cell_type": "markdown",
   "id": "2a12aa8f",
   "metadata": {},
   "source": [
    "[Student Peppi työpöydän](https://student.home.haaga-helia.fi/) etusivun yläpalkissa"
   ]
  },
  {
   "cell_type": "markdown",
   "id": "77f3f6d4",
   "metadata": {},
   "source": [
    "[Lukkarikoneen ohje](https://www.haaga-helia.fi/fi/lukkarikoneen-ohje)"
   ]
  },
  {
   "cell_type": "markdown",
   "id": "03527cb9",
   "metadata": {},
   "source": [
    "## Moodle"
   ]
  },
  {
   "cell_type": "markdown",
   "id": "42d958df",
   "metadata": {},
   "source": [
    "Suora linkki: [https://hhmoodle.haaga-helia.fi](https://hhmoodle.haaga-helia.fi/)"
   ]
  },
  {
   "cell_type": "markdown",
   "id": "07c62784",
   "metadata": {},
   "source": [
    "Kuinka toteutuksia etsitään Moodlessa ja mistä ne löytyvät?\n",
    "* Moodle Etusivu ja Omat kurssini"
   ]
  },
  {
   "cell_type": "markdown",
   "id": "a58188af",
   "metadata": {},
   "source": [
    "Yleisnäkymä ja perustoiminnot, tehtävän palautus, kuvan ja omien tietojen lisääminen"
   ]
  },
  {
   "cell_type": "markdown",
   "id": "870e76fa",
   "metadata": {},
   "source": [
    "Kaksivaiheinen tunnistautuminen käytössä\n",
    "* Asetusten muuttaminen: [https://aka.ms/mfasetup](https://aka.ms/mfasetup)"
   ]
  },
  {
   "cell_type": "markdown",
   "id": "d5199bfe",
   "metadata": {},
   "source": [
    "## Etäyhteys VDI työpöydälle"
   ]
  },
  {
   "cell_type": "markdown",
   "id": "cd6235f2",
   "metadata": {},
   "source": [
    "VDI on esitelty Tervetuloa-materiaalissa\n",
    "\n",
    "Ohje: [Etäkäyttö VDI-yhteydellä](https://www.haaga-helia.fi/fi/opiskelu/etakaytto-vdi-yhteydella)"
   ]
  },
  {
   "cell_type": "markdown",
   "id": "eaa52122",
   "metadata": {},
   "source": [
    "Citrix Workspace asennetaan ensin"
   ]
  },
  {
   "cell_type": "markdown",
   "id": "733ea968",
   "metadata": {},
   "source": [
    "Kirjautuminen VDI-työpöydälle kannattaa tehdä kirjoittamalla selaimen osoiteriville: <br />\n",
    "[https://vdi.haaga-helia.fi](https://vdi.haaga-helia.fi/)"
   ]
  },
  {
   "cell_type": "markdown",
   "id": "0f1c63fc",
   "metadata": {},
   "source": [
    "Chrome on suositeltu selain"
   ]
  },
  {
   "cell_type": "markdown",
   "id": "acecde39",
   "metadata": {},
   "source": [
    "Kaksivaiheinen tunnistautuminen käytössä (MS Authenticator)\n",
    "* Asetusten muuttaminen: [https://aka.ms/mfasetup](https://aka.ms/mfasetup)"
   ]
  },
  {
   "cell_type": "markdown",
   "id": "3d401ea9",
   "metadata": {},
   "source": [
    "VDI-työpöydällä ovat Haaga-Helian ohjelmistot käytössä"
   ]
  },
  {
   "cell_type": "markdown",
   "id": "dc12ec52",
   "metadata": {},
   "source": [
    "## Microsoft 365"
   ]
  },
  {
   "cell_type": "markdown",
   "id": "ef2e3f7f",
   "metadata": {},
   "source": [
    "IT-palveluiden ohjeet: [haaga-helia.fi > Opiskelijalle > HelpDesk, IT-palvelut > Microsoft 365](https://www.haaga-helia.fi/fi/opiskelu/microsoft-365)"
   ]
  },
  {
   "cell_type": "markdown",
   "id": "43041482",
   "metadata": {},
   "source": [
    "Microsoft 365\n",
    "* Sähköposti: [https://mymail.haaga-helia.fi/](https://mymail.haaga-helia.fi/)\n",
    "* vasemman yläkulman ruudukko &rightarrow; More apps &rightarrow; <font color=\"blue\">Install apps</font>\n",
    "\n",
    "<figure>\n",
    "<img src=\"ICT-info-kuvat\\HH_M365_install_apps_2025_0604.PNG\" alt=\"Figure: Microsoft 365 install and more\" width=\"500\" height=\"100\">\n",
    " <figcaption>Figure 5: Microsoft 365 install apps</figcaption>\n",
    "</figure>"
   ]
  },
  {
   "cell_type": "markdown",
   "id": "f576107c",
   "metadata": {},
   "source": [
    "OneDrive"
   ]
  },
  {
   "cell_type": "markdown",
   "id": "9a0622f5",
   "metadata": {},
   "source": [
    "Miten saa ohjelmia kotikoneelle?\n",
    "* [Ohjelmistoja opiskelijoiden kotikäyttöön](https://www.haaga-helia.fi/fi/opiskelu/ohjelmistoja-opiskelijoiden-kotikayttoon)\n",
    "* Huom! Haaga-Heliassa on käytössä englanninkieliset versiot"
   ]
  },
  {
   "cell_type": "markdown",
   "id": "8c15c645",
   "metadata": {},
   "source": [
    "## Mihin tiedostot tulisi tallentaa?"
   ]
  },
  {
   "cell_type": "markdown",
   "id": "66744dbb",
   "metadata": {},
   "source": [
    "Koulun (luokkien, käytävien) koneille ei tule tallentaa *mitään*! Tallentamisessa käytetään Microsoftin pilveä tai Linux-palvelinta myy."
   ]
  },
  {
   "cell_type": "markdown",
   "id": "190dc718",
   "metadata": {},
   "source": [
    "**Vaihtoehto 1**: koulun pilvipalvelu  **Haaga-Helia OneDrive**"
   ]
  },
  {
   "cell_type": "markdown",
   "id": "ec356f42",
   "metadata": {},
   "source": [
    "<table>\n",
    "<tr>\n",
    "<td>\n",
    "<figure>\n",
    " <img src=\"ICT-info-kuvat\\HH_OneDrive_files_saving_Word_2024_1220.PNG\" alt=\"Figure: Tallentaminen OneDriveen\" width=\"400\" height=\"300\">\n",
    " <figcaption>Figure 6: Tallenna OneDriveen</figcaption>\n",
    "</figure>\n",
    "</td>\n",
    "<td>\n",
    "<figure>\n",
    "<img src=\"ICT-info-kuvat\\HH_OneDrive_files_saving2_2025_0604.PNG\" alt=\"Figure: OneDriven löytäminen\" width=\"400\" height=\"300\">\n",
    " <figcaption>Figure 7: OneDriven löytäminen sovelluksesta Outlook Web Application</figcaption>\n",
    "</figure>\n",
    "</td>\n",
    "</tr>\n",
    "</table>"
   ]
  },
  {
   "cell_type": "markdown",
   "id": "acc149d1",
   "metadata": {},
   "source": [
    "**Vaihtoehto 2: M-levy**\n",
    "\n",
    "M:-levyä kannattaa käyttää, kun tallentaa tiedostoja koulun koneilla (toimipisteissä, vdi-koneella), ja siis myös omalla koneella, jossa on toimiva VDI-yhteys päällä."
   ]
  },
  {
   "cell_type": "markdown",
   "id": "8dec3acf",
   "metadata": {},
   "source": [
    "<table>\n",
    "<tr>\n",
    "<td>\n",
    "<figure>\n",
    " <img src=\"ICT-info-kuvat\\HH_M_drive_files_saving_Word_2024_1220.PNG\" alt=\"Figure: Saving on myy\" width=\"400\" height=\"300\">\n",
    " <figcaption>Figure 8: Saving on myy</figcaption>\n",
    "</figure>\n",
    "</td>\n",
    "<td>\n",
    "<figure>\n",
    "<img src=\"ICT-info-kuvat\\HH_M_drive_files_saving_2024_1220.PNG\" alt=\"Figure: M: drive\" width=\"400\" height=\"300\">\n",
    " <figcaption>Figure 9: Myy drive</figcaption>\n",
    "</figure>\n",
    "</td>\n",
    "</tr>\n",
    "</table>"
   ]
  },
  {
   "cell_type": "markdown",
   "id": "5255eba9",
   "metadata": {},
   "source": [
    "You can find the same M: drive on all school computers and with a VDI connection at home.\n",
    "\n",
    "Files on M drive are only available on school computers and on VDI desktop."
   ]
  },
  {
   "cell_type": "markdown",
   "id": "f021deb0",
   "metadata": {},
   "source": [
    "## Langattomat verkot"
   ]
  },
  {
   "cell_type": "markdown",
   "id": "5030b299",
   "metadata": {},
   "source": [
    "HaagaHeliaPublic &ndash; tätä suositellaan käytettäväksi koulun tiloissa\n",
    "\n",
    "Eduroam &ndash; toimii myös useiden muiden korkeakoulujen kampuksilla, myös ulkomailla, ks. [eduroam.fi](https://www.eduroam.fi/en/).\n",
    "\n",
    "[Langaton verkko ja Eduroam](https://www.haaga-helia.fi/fi/opiskelu/langaton-verkko-ja-eduroam)"
   ]
  },
  {
   "cell_type": "markdown",
   "id": "be961ea0",
   "metadata": {},
   "source": [
    "## Tulostaminen verkkotulostimilla"
   ]
  },
  {
   "cell_type": "markdown",
   "id": "fd605637",
   "metadata": {},
   "source": [
    "Henkilökohtainen ”tulostussaldo”.\n",
    "\n",
    "Jäljellä oleva saldo näkyy opiskelijan näytön alareunassa (oma ikkuna)"
   ]
  },
  {
   "cell_type": "markdown",
   "id": "d1ec2e5b",
   "metadata": {},
   "source": [
    "## Omat koneet (BYOD), mitä edellytetään?"
   ]
  },
  {
   "cell_type": "markdown",
   "id": "f32a0779",
   "metadata": {},
   "source": [
    "Osa tunneista BYOD-luokissa, jolloin opiskelija tuo mukanaan oman tietokoneen "
   ]
  },
  {
   "cell_type": "markdown",
   "id": "17b3353e",
   "metadata": {},
   "source": [
    "Device with keyboard."
   ]
  },
  {
   "cell_type": "markdown",
   "id": "c399a0f1",
   "metadata": {},
   "source": [
    "Näppäimistöllinen laite"
   ]
  },
  {
   "cell_type": "markdown",
   "id": "e0d9a6d3",
   "metadata": {},
   "source": [
    "Koneen akku tulee olla ladattuna"
   ]
  },
  {
   "cell_type": "markdown",
   "id": "f1833a4e-7f07-4678-84c7-8bf2c49993d0",
   "metadata": {},
   "source": [
    "Virtajohto mukaan"
   ]
  },
  {
   "cell_type": "markdown",
   "id": "3e905a8f",
   "metadata": {},
   "source": [
    "Etätunnit: Zoom / Teams + Haaga-Heliassa käytettävät ohjelmistot. VDI!"
   ]
  },
  {
   "cell_type": "markdown",
   "id": "cd8d0e9e",
   "metadata": {},
   "source": [
    "Opiskelijan laitesuositukset: [haaga-helia.fi &rightarrow; Opiskelijalle &rightarrow; HelpDesk, IT-palvelut &rightarrow; Opiskelijan laitesuositukset](https://www.haaga-helia.fi/fi/opiskelu/opiskelijan-laitesuositukset)."
   ]
  },
  {
   "cell_type": "markdown",
   "id": "b798e740",
   "metadata": {},
   "source": [
    "## Kotitehtävät"
   ]
  },
  {
   "cell_type": "markdown",
   "id": "601c80c2",
   "metadata": {},
   "source": [
    "Salasanan vaihto mahdollisimman pian (jos vielä tarpeen)"
   ]
  },
  {
   "cell_type": "markdown",
   "id": "757fe129",
   "metadata": {},
   "source": [
    "Microsoft 365, Citrix (VDI) ja kaksivaiheinen tunnistautuminen."
   ]
  },
  {
   "cell_type": "markdown",
   "id": "59660ba5",
   "metadata": {},
   "source": [
    "Asenna Zoom\n",
    "* Ohjeistus Zoomin asennukseen ja käyttöönottoon: [Työkalut ja lomakkeet -> Zoom etäkokousohjelmisto](https://www.haaga-helia.fi/fi/tyokalut-ja-lomakkeet)\n",
    "* Kirjaudu käyttäen SSO-kirjautumista\n",
    "  * Käytä verkkoaluetta (domain) haaga-helia.zoom.us ja\n",
    "  * Kirjatuessa käytä käyttäjätunnuksesta muotoa userid@myy.haaga-helia.fi"
   ]
  },
  {
   "cell_type": "markdown",
   "id": "3c326bcc",
   "metadata": {},
   "source": [
    "Moodleen oma kuva ja kuvausteksti"
   ]
  },
  {
   "cell_type": "markdown",
   "id": "1ca9d603",
   "metadata": {},
   "source": [
    "Allekirjoitus sähköpostiin\n",
    "* Nimi, opiskelijanumero (25xxyyzz) ja ryhmäkoodi?"
   ]
  },
  {
   "cell_type": "markdown",
   "id": "9dba9359",
   "metadata": {},
   "source": [
    "Tämä materiaali on saatavilla myös [pdf-tiedostona](https://haagahelia-my.sharepoint.com/:b:/g/personal/nurju_haaga-helia_fi/EXGVziTFlnVFsG7L2SQZShEBE6q77LbzB-9_ACjSz7i3oA?e=HME0cY)."
   ]
  },
  {
   "cell_type": "code",
   "execution_count": 1,
   "id": "5c46855e",
   "metadata": {},
   "outputs": [
    {
     "name": "stdout",
     "output_type": "stream",
     "text": [
      "Last modified 2025-06-04 17:19 by Juha Nurmonen\n"
     ]
    }
   ],
   "source": [
    "import datetime\n",
    "import pytz\n",
    "\n",
    "tz = pytz.timezone('Europe/Helsinki')\n",
    "print(f'Last modified {tz.localize(datetime.datetime.now()):%Y-%m-%d %H:%M} by Juha Nurmonen')"
   ]
  }
 ],
 "metadata": {
  "kernelspec": {
   "display_name": "Python 3 (ipykernel)",
   "language": "python",
   "name": "python3"
  },
  "language_info": {
   "codemirror_mode": {
    "name": "ipython",
    "version": 3
   },
   "file_extension": ".py",
   "mimetype": "text/x-python",
   "name": "python",
   "nbconvert_exporter": "python",
   "pygments_lexer": "ipython3",
   "version": "3.11.7"
  }
 },
 "nbformat": 4,
 "nbformat_minor": 5
}
