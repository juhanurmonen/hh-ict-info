{
 "cells": [
  {
   "cell_type": "markdown",
   "id": "c5dc1403",
   "metadata": {},
   "source": [
    "# Haaga-Helia University of Applied Sciences"
   ]
  },
  {
   "cell_type": "markdown",
   "id": "21ece0dd",
   "metadata": {},
   "source": [
    "<center>\n",
    "    <h1> ICT info </h1>\n",
    "</center>"
   ]
  },
  {
   "cell_type": "markdown",
   "id": "1a34300d",
   "metadata": {},
   "source": [
    "## Log on HH computer and change password"
   ]
  },
  {
   "cell_type": "markdown",
   "id": "1f2ae8b4",
   "metadata": {},
   "source": [
    "HelpDesk: [haaga-helia.fi/en-> For students -> IT services and HelpDesk](https://www.haaga-helia.fi/en/contact/it-services-and-helpdesk)"
   ]
  },
  {
   "cell_type": "markdown",
   "id": "928f1fab",
   "metadata": {},
   "source": [
    "User IDs: [User IDs: haaga-helia.fi/en-> For students -> HelpDesk, IT services -> Student User ids and passwords](https://www.haaga-helia.fi/en/study/student-user-ids-and-passwords)"
   ]
  },
  {
   "cell_type": "markdown",
   "id": "d416c2e7",
   "metadata": {},
   "source": [
    "Changing your password\n",
    "* Using an online form; see the page above\n",
    "* On-site at Haaga-Helia campus (Ctrl+Alt+Del); preferably asap this week"
   ]
  },
  {
   "cell_type": "markdown",
   "id": "cd9a9547",
   "metadata": {},
   "source": [
    "If you forget you password, get new via [Finnish digital banking identity verification](https://salasana.haaga-helia.fi/)"
   ]
  },
  {
   "cell_type": "markdown",
   "id": "0305608c",
   "metadata": {},
   "source": [
    "In case of problems with logon, see instructions: [haaga-helia.fi/en -> For students -> HelpDesk, IT services -> Username and password for HH networks](https://www.haaga-helia.fi/en/study/username-and-password-haaga-helia-networks)"
   ]
  },
  {
   "cell_type": "markdown",
   "id": "64b18f23",
   "metadata": {},
   "source": [
    "Multi-Factor Authentication MFA is widely used\n",
    "* [See instructions on setting up MFA](https://www.haaga-helia.fi/sites/default/files/file/2024-03/mfa_ohjeet_hh.pdf) (pdf-file)\n",
    "* [https://aka.ms/mfasetup](https://aka.ms/mfasetup)"
   ]
  },
  {
   "cell_type": "markdown",
   "id": "3cbc5a2e",
   "metadata": {},
   "source": [
    "## Public website"
   ]
  },
  {
   "attachments": {},
   "cell_type": "markdown",
   "id": "74c7476c",
   "metadata": {},
   "source": [
    "<!--\n",
    "![HH_public_pages_quick_links_2024_1220.PNG](attachment:HH_public_pages_quick_links_2024_1220.PNG)\n",
    "-->\n",
    "\n",
    "* [www.haaga-helia.fi/en](https://www.haaga-helia.fi/en)\n",
    "* Links are found at the bottom of the site\n",
    "* Behind hamburger menu\n",
    "  * [For students](https://www.haaga-helia.fi/en/students)\n",
    "  * [About Haaga-Helia -> Contact](https://www.haaga-helia.fi/en/contact)\n",
    "  "
   ]
  },
  {
   "cell_type": "markdown",
   "id": "3fc5e564",
   "metadata": {},
   "source": [
    "## Student pages: Student Peppi"
   ]
  },
  {
   "cell_type": "markdown",
   "id": "e552d8d1",
   "metadata": {},
   "source": [
    "Student pages with restricted access\n",
    "* [haaga-helia.fi/en -> For students > Peppi – Student’s virtual desktop](https://www.haaga-helia.fi/en/study/peppi-students-virtual-desktop)"
   ]
  },
  {
   "attachments": {},
   "cell_type": "markdown",
   "id": "f0ecdc1c",
   "metadata": {},
   "source": [
    "Access via public site\n",
    "* [haaga-helia.fi/en -> For students](https://www.haaga-helia.fi/en/students)\n",
    "<figure>\n",
    "<img src=\"ICT-info-kuvat\\HH_public_website_for_students__Peppi_2024_1220.PNG\" alt=\"Student Peppi at students' page\" width=\"600\" height=\"200\">\n",
    " <figcaption>Student Peppi at students' page</figcaption>\n",
    "</figure>"
   ]
  },
  {
   "cell_type": "markdown",
   "id": "751270b2",
   "metadata": {},
   "source": [
    "Directly: [https://student.home.haaga-helia.fi/](https://student.home.haaga-helia.fi/)\n",
    "* User ID is Haaga-Helia network ID, i.e., the one of the form bxx123"
   ]
  },
  {
   "cell_type": "markdown",
   "id": "5c11c3a8",
   "metadata": {},
   "source": [
    "## IT Services instructions"
   ]
  },
  {
   "cell_type": "markdown",
   "id": "ef30a189",
   "metadata": {},
   "source": [
    "Instructions by IT Services, FAQ, terms, conditions\n",
    "[haaga-helia.fi/en -> About Haaga-Helia ->\n",
    "Contact -> IT Services and HelpDesk](https://www.haaga-helia.fi/en/contact/it-services-and-helpdesk)"
   ]
  },
  {
   "attachments": {},
   "cell_type": "markdown",
   "id": "675b9e5d",
   "metadata": {},
   "source": [
    "* [Microsoft 365](https://www.haaga-helia.fi/en/study/microsoft-365)\n",
    "* [Software to use at home](https://www.haaga-helia.fi/en/study/software-use-home)\n",
    "  * Sign in with SSO if applicable, e.g., haaga-helia.zoom.us and you network user id\n",
    "* [Printing](https://www.haaga-helia.fi/en/study/printing)\n"
   ]
  },
  {
   "cell_type": "markdown",
   "id": "c268e28c",
   "metadata": {},
   "source": [
    "<table>\n",
    "<tr>\n",
    "<td>\n",
    "<figure>\n",
    " <img src=\"ICT-info-kuvat\\HH_public_pages_quick_links_2024_1220.PNG\" alt=\"Quick links\" width=\"200\" height=\"80\">\n",
    " <figcaption>HH Quick links</figcaption>\n",
    "</figure>\n",
    "</td>\n",
    "<td>\n",
    "<figure>\n",
    "<img src=\"ICT-info-kuvat\\HH_public_website_IT_services_helpdesk_contact_info_2024_1220.PNG\" alt=\"Quick links\" width=\"200\" height=\"150\">\n",
    " <figcaption>HelpDesk contact info</figcaption>\n",
    "</figure>\n",
    "</td>\n",
    "</tr>\n",
    "</table>"
   ]
  },
  {
   "cell_type": "markdown",
   "id": "d3f0b64e",
   "metadata": {},
   "source": [
    "## How to find courses and timetables?"
   ]
  },
  {
   "attachments": {},
   "cell_type": "markdown",
   "id": "e22c9019",
   "metadata": {},
   "source": [
    "Master studies\n",
    "* [haaga-helia.fi/en -> For students -> Master studies](https://www.haaga-helia.fi/en/master-students)"
   ]
  },
  {
   "attachments": {},
   "cell_type": "markdown",
   "id": "0a5e34a3",
   "metadata": {},
   "source": [
    "Haaga-Helia public website at the bottom of the main page\n",
    "* [https://www.haaga-helia.fi/en/](https://www.haaga-helia.fi/en/)"
   ]
  },
  {
   "cell_type": "markdown",
   "id": "abc5419a",
   "metadata": {},
   "source": [
    "Haaga-Helia public website on the student page\n",
    "* [haaga-helia.fi/en -> For students](https://www.haaga-helia.fi/en/students)"
   ]
  },
  {
   "cell_type": "markdown",
   "id": "2a12aa8f",
   "metadata": {},
   "source": [
    "[Peppi Student’s Desktop:](https://student.home.haaga-helia.fi/) the top bar of the main page"
   ]
  },
  {
   "cell_type": "markdown",
   "id": "77f3f6d4",
   "metadata": {},
   "source": [
    "[Timetable tool instructions](https://www.haaga-helia.fi/en/lukkarikone-instructions)"
   ]
  },
  {
   "cell_type": "markdown",
   "id": "03527cb9",
   "metadata": {},
   "source": [
    "## Moodle"
   ]
  },
  {
   "cell_type": "markdown",
   "id": "42d958df",
   "metadata": {},
   "source": [
    "Direct link [https://hhmoodle.haaga-helia.fi](https://hhmoodle.haaga-helia.fi/)\n",
    "* If Finnish, change to English: User profile -> Kieli\n",
    "\n",
    "<figure>\n",
    "<img src=\"ICT-info-kuvat\\HH_Moodle_Profile_language_wide_2024_1220.PNG\" alt=\"Moodle language selection\" width=\"600\" height=\"200\">\n",
    " <figcaption>Moodle language selection</figcaption>\n",
    "</figure>"
   ]
  },
  {
   "cell_type": "markdown",
   "id": "07c62784",
   "metadata": {},
   "source": [
    "How to find course implementations on Moodle?\n",
    "* Moodle Home tab"
   ]
  },
  {
   "cell_type": "markdown",
   "id": "a58188af",
   "metadata": {},
   "source": [
    "Overview, basic functionalities, submitting an assignment,\n",
    "profile picture and modifying profile information"
   ]
  },
  {
   "cell_type": "markdown",
   "id": "870e76fa",
   "metadata": {},
   "source": [
    "Multi-factor authentication used\n",
    "* Change settings at: [https://aka.ms/mfasetup](https://aka.ms/mfasetup)"
   ]
  },
  {
   "cell_type": "markdown",
   "id": "d5199bfe",
   "metadata": {},
   "source": [
    "## Remote access via VDI desktop"
   ]
  },
  {
   "cell_type": "markdown",
   "id": "cd6235f2",
   "metadata": {},
   "source": [
    "VDI has been already introduced at your Welcome package\n",
    "\n",
    "See [Remote access using VDI](https://www.haaga-helia.fi/en/study/remote-access)"
   ]
  },
  {
   "cell_type": "markdown",
   "id": "eaa52122",
   "metadata": {},
   "source": [
    "Citrix Workspace must be installed first"
   ]
  },
  {
   "cell_type": "markdown",
   "id": "733ea968",
   "metadata": {},
   "source": [
    "To log in to your VDI desktop, type in the bowser’s address bar: \n",
    "<code>\n",
    "[https://vdi.haaga-helia.fi](https://vdi.haaga-helia.fi/)\n",
    "</code>"
   ]
  },
  {
   "cell_type": "markdown",
   "id": "0f1c63fc",
   "metadata": {},
   "source": [
    "Chrome is the most recommended browser"
   ]
  },
  {
   "cell_type": "markdown",
   "id": "acecde39",
   "metadata": {},
   "source": [
    "Multi-factor authentication used (MS Authenticator)\n",
    "* Change settings at: [https://aka.ms/mfasetup](https://aka.ms/mfasetup)"
   ]
  },
  {
   "cell_type": "markdown",
   "id": "3d401ea9",
   "metadata": {},
   "source": [
    "HH’s software are available"
   ]
  },
  {
   "cell_type": "markdown",
   "id": "dc12ec52",
   "metadata": {},
   "source": [
    "## Microsoft 365"
   ]
  },
  {
   "cell_type": "markdown",
   "id": "ef2e3f7f",
   "metadata": {},
   "source": [
    "[IT Department's instructions](https://www.haaga-helia.fi/en/study/microsoft-365)"
   ]
  },
  {
   "cell_type": "markdown",
   "id": "43041482",
   "metadata": {},
   "source": [
    "Microsoft 365\n",
    "* Email: [https://mymail.haaga-helia.fi/](https://mymail.haaga-helia.fi/)\n",
    "* grid at top left corner &rightarrow; Microsoft 365 &rightarrow; <font color=\"blue\">Install and more</font>\n",
    "\n",
    "<figure>\n",
    "<img src=\"ICT-info-kuvat\\HH_M365_install_and_more_2024_1220.PNG\" alt=\"Microsoft 365 install and more\" width=\"500\" height=\"100\">\n",
    " <figcaption>Microsoft 365 install and more</figcaption>\n",
    "</figure>"
   ]
  },
  {
   "cell_type": "markdown",
   "id": "f576107c",
   "metadata": {},
   "source": [
    "OneDrive"
   ]
  },
  {
   "cell_type": "markdown",
   "id": "9a0622f5",
   "metadata": {},
   "source": [
    "[Software to use at home](https://www.haaga-helia.fi/en/study/software-use-home)\n",
    "* Note! English software versions are used in the HH."
   ]
  },
  {
   "cell_type": "markdown",
   "id": "8c15c645",
   "metadata": {},
   "source": [
    "## Where should files be saved?"
   ]
  },
  {
   "cell_type": "markdown",
   "id": "66744dbb",
   "metadata": {},
   "source": [
    "*Nothing* should be saved on school workstations! Save to the cloud or\n",
    "myy drive."
   ]
  },
  {
   "cell_type": "markdown",
   "id": "190dc718",
   "metadata": {},
   "source": [
    "**Option 1**: cloud service **Haaga-Helia OneDrive**"
   ]
  },
  {
   "cell_type": "markdown",
   "id": "ec356f42",
   "metadata": {},
   "source": [
    "<table>\n",
    "<tr>\n",
    "<td>\n",
    "<figure>\n",
    " <img src=\"ICT-info-kuvat\\HH_OneDrive_files_saving_Word_2024_1220.PNG\" alt=\"Saving on OneDrive\" width=\"400\" height=\"300\">\n",
    " <figcaption>Save on the right OneDrive</figcaption>\n",
    "</figure>\n",
    "</td>\n",
    "<td>\n",
    "<figure>\n",
    "<img src=\"ICT-info-kuvat\\HH_OneDrive_files_saving_2024_1220.PNG\" alt=\"OneDrive\" width=\"400\" height=\"300\">\n",
    " <figcaption>Finding OneDrive from Outloook Web Application</figcaption>\n",
    "</figure>\n",
    "</td>\n",
    "</tr>\n",
    "</table>"
   ]
  },
  {
   "cell_type": "markdown",
   "id": "acc149d1",
   "metadata": {},
   "source": [
    "**Option 2: M drive**\n",
    "\n",
    "Use M: drive when you want to save files on the school’s computer, or your own\n",
    "computer with VDI connection\n",
    "\n"
   ]
  },
  {
   "cell_type": "markdown",
   "id": "8dec3acf",
   "metadata": {},
   "source": [
    "<table>\n",
    "<tr>\n",
    "<td>\n",
    "<figure>\n",
    " <img src=\"ICT-info-kuvat\\HH_M_drive_files_saving_Word_2024_1220.PNG\" alt=\"Saving on myy\" width=\"400\" height=\"300\">\n",
    " <figcaption>Saving on myy</figcaption>\n",
    "</figure>\n",
    "</td>\n",
    "<td>\n",
    "<figure>\n",
    "<img src=\"ICT-info-kuvat\\HH_M_drive_files_saving_2024_1220.PNG\" alt=\"M: drive\" width=\"400\" height=\"300\">\n",
    " <figcaption>Myy drive</figcaption>\n",
    "</figure>\n",
    "</td>\n",
    "</tr>\n",
    "</table>"
   ]
  },
  {
   "cell_type": "markdown",
   "id": "5255eba9",
   "metadata": {},
   "source": [
    "You can find the same M: drive on all school computers and with a VDI connection at home.\n",
    "\n",
    "Files on M drive are only available on school computers and on VDI desktop."
   ]
  },
  {
   "cell_type": "markdown",
   "id": "f021deb0",
   "metadata": {},
   "source": [
    "## Wireless networks"
   ]
  },
  {
   "cell_type": "markdown",
   "id": "5030b299",
   "metadata": {},
   "source": [
    "HaagaHeliaPublic &ndash; use this on school premises\n",
    "\n",
    "Eduroam &ndash; also works on the campuses of most other higher education institutes, also abroad, see [eduroam.fi](https://www.eduroam.fi/en/).\n",
    "\n",
    "[Wireless network and Eduroam at Haaga-Helia](https://www.haaga-helia.fi/en/study/wireless-network-and-eduroam)"
   ]
  },
  {
   "cell_type": "markdown",
   "id": "be961ea0",
   "metadata": {},
   "source": [
    "## Network printers"
   ]
  },
  {
   "cell_type": "markdown",
   "id": "fd605637",
   "metadata": {},
   "source": [
    "User-specific ”printing balance”.\n",
    "\n",
    "Remaining balance is shown at the bottom of the school computer’s\n",
    "screen (own window)."
   ]
  },
  {
   "cell_type": "markdown",
   "id": "d1ec2e5b",
   "metadata": {},
   "source": [
    "## Own devices (BYOD), what is required?"
   ]
  },
  {
   "cell_type": "markdown",
   "id": "f32a0779",
   "metadata": {},
   "source": [
    "Some lessons are held in BYOD classrooms; students bring their own computers."
   ]
  },
  {
   "cell_type": "markdown",
   "id": "17b3353e",
   "metadata": {},
   "source": [
    "Device with keyboard."
   ]
  },
  {
   "cell_type": "markdown",
   "id": "c399a0f1",
   "metadata": {},
   "source": [
    "The device’s battery must be charged."
   ]
  },
  {
   "cell_type": "markdown",
   "id": "e0d9a6d3",
   "metadata": {},
   "source": [
    "Bring the power cord with you."
   ]
  },
  {
   "cell_type": "markdown",
   "id": "3e905a8f",
   "metadata": {},
   "source": [
    "Distance classes: Zoom / Teams + software used at HH."
   ]
  },
  {
   "cell_type": "markdown",
   "id": "cd8d0e9e",
   "metadata": {},
   "source": [
    "[See device recommendations for students](https://www.haaga-helia.fi/en/study/device-recommendations-students)."
   ]
  },
  {
   "cell_type": "markdown",
   "id": "b798e740",
   "metadata": {},
   "source": [
    "## Homework"
   ]
  },
  {
   "cell_type": "markdown",
   "id": "601c80c2",
   "metadata": {},
   "source": [
    "Change your password as soon as possible."
   ]
  },
  {
   "cell_type": "markdown",
   "id": "757fe129",
   "metadata": {},
   "source": [
    "Microsoft 365, Citrix (VDI) and multi-factor authentication."
   ]
  },
  {
   "cell_type": "markdown",
   "id": "59660ba5",
   "metadata": {},
   "source": [
    "Install Zoom\n",
    "* For installation and first steps to use Zoom, see instructions at: [Tools and Forms -> Zoom video conferencing tool](https://www.haaga-helia.fi/en/tools-and-forms)\n",
    "* Sign in with SSO\n",
    "  * Use the domain haaga-helia.zoom.us and \n",
    "  * When authenticating, use format userid@myy.haaga-helia.fi for user id."
   ]
  },
  {
   "cell_type": "markdown",
   "id": "3c326bcc",
   "metadata": {},
   "source": [
    "Add your profile picture and description on Moodle."
   ]
  },
  {
   "cell_type": "markdown",
   "id": "1ca9d603",
   "metadata": {},
   "source": [
    "Add email signature\n",
    "* Name, student id (25XX) and group code?"
   ]
  },
  {
   "cell_type": "markdown",
   "id": "9dba9359",
   "metadata": {},
   "source": [
    "This material is also available as [pdf-file](https://haagahelia-my.sharepoint.com/:b:/g/personal/nurju_haaga-helia_fi/Ebzump5zQvBLvL58ONgeB0EB7zexVFeTWtHTBprHJ2VL3g?e=coYrNR)."
   ]
  },
  {
   "cell_type": "code",
   "execution_count": 1,
   "id": "5c46855e",
   "metadata": {},
   "outputs": [
    {
     "name": "stdout",
     "output_type": "stream",
     "text": [
      "Last modified 2024-12-20 20:22 by Juha Nurmonen\n"
     ]
    }
   ],
   "source": [
    "import datetime\n",
    "import pytz\n",
    "\n",
    "tz = pytz.timezone('Europe/Helsinki')\n",
    "print(f'Last modified {tz.localize(datetime.datetime.now()):%Y-%m-%d %H:%M} by Juha Nurmonen')"
   ]
  }
 ],
 "metadata": {
  "kernelspec": {
   "display_name": "Python 3 (ipykernel)",
   "language": "python",
   "name": "python3"
  },
  "language_info": {
   "codemirror_mode": {
    "name": "ipython",
    "version": 3
   },
   "file_extension": ".py",
   "mimetype": "text/x-python",
   "name": "python",
   "nbconvert_exporter": "python",
   "pygments_lexer": "ipython3",
   "version": "3.10.13"
  }
 },
 "nbformat": 4,
 "nbformat_minor": 5
}
